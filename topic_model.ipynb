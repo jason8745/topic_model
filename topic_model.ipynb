{
 "cells": [
  {
   "cell_type": "code",
   "execution_count": null,
   "metadata": {},
   "outputs": [],
   "source": [
    "\n",
    "from utils.preprocess import DataPreprocess\n",
    "from utils.model import LdaModel"
   ]
  },
  {
   "cell_type": "markdown",
   "metadata": {},
   "source": [
    "## Load Data"
   ]
  },
  {
   "cell_type": "code",
   "execution_count": 2,
   "metadata": {},
   "outputs": [
    {
     "name": "stderr",
     "output_type": "stream",
     "text": [
      "[nltk_data] Downloading package stopwords to\n",
      "[nltk_data]     C:\\Users\\User\\AppData\\Roaming\\nltk_data...\n",
      "[nltk_data]   Package stopwords is already up-to-date!\n",
      "[nltk_data] Downloading package wordnet to\n",
      "[nltk_data]     C:\\Users\\User\\AppData\\Roaming\\nltk_data...\n",
      "[nltk_data]   Package wordnet is already up-to-date!\n"
     ]
    }
   ],
   "source": [
    "preprocess = DataPreprocess()"
   ]
  },
  {
   "cell_type": "code",
   "execution_count": 3,
   "metadata": {},
   "outputs": [
    {
     "name": "stdout",
     "output_type": "stream",
     "text": [
      "success transform data,cost: 628.2440090179443\n"
     ]
    }
   ],
   "source": [
    "preprocess.transform_dataset_to_lda('data/dataset.csv')"
   ]
  },
  {
   "cell_type": "markdown",
   "metadata": {},
   "source": [
    "## Train Model"
   ]
  },
  {
   "cell_type": "code",
   "execution_count": 4,
   "metadata": {},
   "outputs": [],
   "source": [
    "lda =LdaModel()"
   ]
  },
  {
   "cell_type": "code",
   "execution_count": 5,
   "metadata": {},
   "outputs": [
    {
     "name": "stdout",
     "output_type": "stream",
     "text": [
      "train model  success\n"
     ]
    }
   ],
   "source": [
    "lda.train_model(text_data = preprocess.text_data,topic_count = 5)"
   ]
  },
  {
   "cell_type": "code",
   "execution_count": 6,
   "metadata": {},
   "outputs": [
    {
     "data": {
      "text/plain": [
       "[(0, '0.032*\"current\" + 0.032*\"system\" + 0.017*\"route\" + 0.017*\"wireless\"'),\n",
       " (1, '0.020*\"scheme\" + 0.020*\"channel\" + 0.020*\"combat\" + 0.020*\"doppler\"'),\n",
       " (2, '0.034*\"power\" + 0.034*\"designing\" + 0.019*\"using\" + 0.019*\"technology\"'),\n",
       " (3, '0.031*\"network\" + 0.031*\"radio\" + 0.017*\"wireless\" + 0.017*\"sensor\"'),\n",
       " (4, '0.029*\"pattern\" + 0.029*\"using\" + 0.029*\"framework\" + 0.029*\"multi\"')]"
      ]
     },
     "execution_count": 6,
     "metadata": {},
     "output_type": "execute_result"
    }
   ],
   "source": [
    "# Lda已經將Model訓練好,以下是每個topic的前4大權重的字\n",
    "lda.model.print_topics(num_words=4)"
   ]
  },
  {
   "cell_type": "code",
   "execution_count": 7,
   "metadata": {},
   "outputs": [
    {
     "name": "stdout",
     "output_type": "stream",
     "text": [
      "save lda object at ./model/20220713\n"
     ]
    }
   ],
   "source": [
    "# save model\n",
    "lda.save_lda('20220713')"
   ]
  },
  {
   "cell_type": "markdown",
   "metadata": {},
   "source": [
    "## Predicting"
   ]
  },
  {
   "cell_type": "code",
   "execution_count": 8,
   "metadata": {},
   "outputs": [
    {
     "name": "stdout",
     "output_type": "stream",
     "text": [
      "===========\n",
      "39.96 % belongs to topic: 0\n",
      "===========\n",
      "6.67 % belongs to topic: 1\n",
      "===========\n",
      "40.03 % belongs to topic: 2\n",
      "===========\n",
      "6.67 % belongs to topic: 3\n",
      "===========\n",
      "6.67 % belongs to topic: 4\n"
     ]
    }
   ],
   "source": [
    "new_doc = 'Practical Bayesian Optimization of Machine Learning Algorithms'\n",
    "new_doc = preprocess.prepare_text_for_lda(new_doc)\n",
    "result = lda.predict(new_doc)"
   ]
  },
  {
   "cell_type": "markdown",
   "metadata": {},
   "source": [
    "## Reload Model"
   ]
  },
  {
   "cell_type": "code",
   "execution_count": 9,
   "metadata": {},
   "outputs": [
    {
     "name": "stdout",
     "output_type": "stream",
     "text": [
      "load model :20220713 success\n"
     ]
    }
   ],
   "source": [
    "lda.load_lda('20220713')"
   ]
  },
  {
   "cell_type": "code",
   "execution_count": 12,
   "metadata": {},
   "outputs": [
    {
     "name": "stdout",
     "output_type": "stream",
     "text": [
      "===========\n",
      "73.33 % belongs to topic: 0\n",
      "===========\n",
      "6.67 % belongs to topic: 1\n",
      "===========\n",
      "6.67 % belongs to topic: 2\n",
      "===========\n",
      "6.67 % belongs to topic: 3\n",
      "===========\n",
      "6.67 % belongs to topic: 4\n"
     ]
    }
   ],
   "source": [
    "new_doc = 'Practical Machine Learning and Deep Learning Algorithms'\n",
    "new_doc = preprocess.prepare_text_for_lda(new_doc)\n",
    "result = lda.predict(new_doc)"
   ]
  }
 ],
 "metadata": {
  "kernelspec": {
   "display_name": "Python 3.7.4 ('base')",
   "language": "python",
   "name": "python3"
  },
  "language_info": {
   "codemirror_mode": {
    "name": "ipython",
    "version": 3
   },
   "file_extension": ".py",
   "mimetype": "text/x-python",
   "name": "python",
   "nbconvert_exporter": "python",
   "pygments_lexer": "ipython3",
   "version": "3.7.4"
  },
  "orig_nbformat": 4,
  "vscode": {
   "interpreter": {
    "hash": "136ac6390a149cc93e6470a8f7f2b930c2fa00ca17cae58650efc746ba1de66d"
   }
  }
 },
 "nbformat": 4,
 "nbformat_minor": 2
}
